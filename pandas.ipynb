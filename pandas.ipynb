{
 "cells": [
  {
   "cell_type": "code",
   "execution_count": 27,
   "metadata": {},
   "outputs": [
    {
     "name": "stdout",
     "output_type": "stream",
     "text": [
      "[3.5, 4.57, 4.2, 6.0, 4.57]\n"
     ]
    }
   ],
   "source": [
    "import pandas as pd\n",
    "\n",
    "def impute_missing_values(nums):\n",
    "    # Convert input list to Pandas Series\n",
    "    s = pd.Series(nums)\n",
    "    \n",
    "    # Fill missing values (NaN) with mean rounded to two decimals\n",
    "    s.fillna(round(s.mean(), 2), inplace=True)\n",
    "    \n",
    "    # Convert Series back to list\n",
    "    return s.tolist()\n",
    "\n",
    "# Test example\n",
    "nums = [3.5, None, 4.2, 6.0, None]\n",
    "print(impute_missing_values(nums))\n"
   ]
  },
  {
   "cell_type": "code",
   "execution_count": 28,
   "metadata": {},
   "outputs": [
    {
     "name": "stdout",
     "output_type": "stream",
     "text": [
      "[{'id': 1, 'score': 85}, {'id': 3, 'score': 90}]\n"
     ]
    }
   ],
   "source": [
    "import pandas as pd\n",
    "\n",
    "def filter_scores(data, threshold=50):\n",
    "    # Convert list of dictionaries into DataFrame\n",
    "    df = pd.DataFrame(data)\n",
    "    \n",
    "    # Filter rows where 'score' >= threshold\n",
    "    filtered_df = df[df['score'] >= threshold]\n",
    "    \n",
    "    # Convert filtered DataFrame back to a list of dictionaries\n",
    "    return filtered_df.to_dict(orient='records')\n",
    "\n",
    "# Example usage:\n",
    "data = [{\"id\": 1, \"score\": 85}, {\"id\": 2, \"score\": 45}, {\"id\": 3, \"score\": 90}]\n",
    "print(filter_scores(data, 50))\n"
   ]
  },
  {
   "cell_type": "code",
   "execution_count": 29,
   "metadata": {},
   "outputs": [
    {
     "name": "stdout",
     "output_type": "stream",
     "text": [
      "{'North': 25000, 'South': 18000}\n"
     ]
    }
   ],
   "source": [
    "import pandas as pd\n",
    "\n",
    "def aggregate_sales(data):\n",
    "    # Convert input list of dictionaries to DataFrame\n",
    "    df = pd.DataFrame(data)\n",
    "\n",
    "    # Group by 'region' and sum the 'amount'\n",
    "    grouped = df.groupby('region', as_index=True)['amount'].sum()\n",
    "\n",
    "    # Convert the grouped result into a dictionary\n",
    "    return grouped.to_dict()\n",
    "\n",
    "# Example usage:\n",
    "sales_data = [\n",
    "    {\"region\": \"North\", \"amount\": 10000},\n",
    "    {\"region\": \"South\", \"amount\": 5000},\n",
    "    {\"region\": \"North\", \"amount\": 15000},\n",
    "    {\"region\": \"South\", \"amount\": 13000}\n",
    "]\n",
    "\n",
    "print(aggregate_sales(sales_data))\n"
   ]
  },
  {
   "cell_type": "code",
   "execution_count": 30,
   "metadata": {},
   "outputs": [
    {
     "name": "stdout",
     "output_type": "stream",
     "text": [
      "['Bob: 95', 'Alice: 80', 'Charlie: 70']\n"
     ]
    }
   ],
   "source": [
    "import pandas as pd\n",
    "\n",
    "def sort_students_by_grade(data, ascending=False):\n",
    "    # Convert list of dictionaries into DataFrame\n",
    "    df = pd.DataFrame(data)\n",
    "    \n",
    "    # Sort DataFrame by 'grade', ascending or descending\n",
    "    df_sorted = df.sort_values(by='grade', ascending=ascending)\n",
    "    \n",
    "    # Convert sorted DataFrame back to list of formatted strings\n",
    "    sorted_list = [f\"{row['name']}: {row['grade']}\" for _, row in df_sorted.iterrows()]\n",
    "    \n",
    "    return sorted_list\n",
    "\n",
    "# Example usage:\n",
    "students = [\n",
    "    {\"name\": \"Alice\", \"grade\": 80},\n",
    "    {\"name\": \"Bob\", \"grade\": 95},\n",
    "    {\"name\": \"Charlie\", \"grade\": 70}\n",
    "]\n",
    "\n",
    "# Sort by descending grade (highest first)\n",
    "print(sort_students_by_grade(students, ascending=False))\n"
   ]
  },
  {
   "cell_type": "code",
   "execution_count": 31,
   "metadata": {},
   "outputs": [
    {
     "name": "stdout",
     "output_type": "stream",
     "text": [
      "[{'cust_id': 1, 'name': 'Alice', 'order_id': 102, 'total': 150}, {'cust_id': 2, 'name': 'Bob', 'order_id': 101, 'total': 300}]\n"
     ]
    }
   ],
   "source": [
    "import pandas as pd\n",
    "\n",
    "def merge_datasets(customers, orders):\n",
    "    # Convert input lists into DataFrames\n",
    "    df_customers = pd.DataFrame(customers)\n",
    "    df_orders = pd.DataFrame(orders)\n",
    "    \n",
    "    # Merge DataFrames on 'cust_id'\n",
    "    merged_df = pd.merge(df_customers, df_orders, on='cust_id')\n",
    "    \n",
    "    # Convert merged DataFrame back to list of dictionaries\n",
    "    return merged_df.to_dict(orient='records')\n",
    "\n",
    "# Example usage:\n",
    "customers = [\n",
    "    {\"cust_id\": 1, \"name\": \"Alice\"},\n",
    "    {\"cust_id\": 2, \"name\": \"Bob\"}\n",
    "]\n",
    "\n",
    "orders = [\n",
    "    {\"order_id\": 101, \"cust_id\": 2, \"total\": 300},\n",
    "    {\"order_id\": 102, \"cust_id\": 1, \"total\": 150}\n",
    "]\n",
    "\n",
    "print(merge_datasets(customers, orders))\n"
   ]
  },
  {
   "cell_type": "code",
   "execution_count": 32,
   "metadata": {},
   "outputs": [
    {
     "name": "stdout",
     "output_type": "stream",
     "text": [
      "[[0, 0, 1], [1, 0, 0], [0, 0, 1], [0, 1, 0]]\n",
      "[0, 1, 0, 2]\n"
     ]
    }
   ],
   "source": [
    "import pandas as pd\n",
    "import numpy as np\n",
    "\n",
    "\n",
    "def one_hot_encode(categories):\n",
    "    # Convert categories to pandas Series\n",
    "    s = pd.Series(categories)\n",
    "    \n",
    "    # Perform one-hot encoding\n",
    "    encoded_df = pd.get_dummies(s).astype(int)\n",
    "\n",
    "    \n",
    "    # Convert DataFrame to a list of lists\n",
    "    return encoded_df.values.tolist()\n",
    "\n",
    "# Example usage:\n",
    "categories = [\"red\", \"blue\", \"red\", \"green\"]\n",
    "print(one_hot_encode(categories))\n",
    "\n",
    "\n",
    "\n",
    "\n",
    "import pandas as pd\n",
    "\n",
    "def label_encode(categories):\n",
    "    # Convert categories to pandas Series and then factorize\n",
    "    s = pd.Series(categories)\n",
    "    \n",
    "    # Perform label encoding (factorize returns tuple: codes, uniques)\n",
    "    labels, uniques = pd.factorize(s)\n",
    "    \n",
    "    # Convert labels to list\n",
    "    return labels.tolist()\n",
    "\n",
    "# Example usage:\n",
    "categories = [\"red\", \"blue\", \"red\", \"green\"]\n",
    "print(label_encode(categories))\n",
    "\n"
   ]
  },
  {
   "cell_type": "code",
   "execution_count": 33,
   "metadata": {},
   "outputs": [
    {
     "name": "stdout",
     "output_type": "stream",
     "text": [
      "[0.0, 0.67, 1.0, 0.33]\n"
     ]
    }
   ],
   "source": [
    "import pandas as pd\n",
    "\n",
    "def min_max_scale(values):\n",
    "    # Convert values into a pandas Series\n",
    "    s = pd.Series(values)\n",
    "    \n",
    "    # Perform Min-Max scaling\n",
    "    scaled = (s - s.min()) / (s.max() - s.min())\n",
    "    \n",
    "    # Round scaled values to two decimal places and convert to list\n",
    "    return scaled.round(2).tolist()\n",
    "\n",
    "# Example usage:\n",
    "values = [5, 15, 20, 10]\n",
    "print(min_max_scale(values))\n"
   ]
  },
  {
   "cell_type": "code",
   "execution_count": 34,
   "metadata": {},
   "outputs": [
    {
     "name": "stdout",
     "output_type": "stream",
     "text": [
      "['36-50', '18-35', '<18', '36-50', '18-35', '51+', '<18', '18-35', '51+', '18-35']\n"
     ]
    }
   ],
   "source": [
    "import pandas as pd\n",
    "\n",
    "def bin_ages(ages):\n",
    "    # Define explicit bin edges and labels\n",
    "    bins = [float('-inf'), 17, 35, 50, float('inf')]\n",
    "    labels = [\"<18\", \"18-35\", \"36-50\", \"51+\"]\n",
    "\n",
    "    # Perform binning using pd.cut()\n",
    "    binned_ages = pd.cut(ages, bins=bins, labels=labels)\n",
    "\n",
    "    # Convert to list of strings\n",
    "    return binned_ages.astype(str).tolist()\n",
    "\n",
    "# Unordered example usage:\n",
    "ages = [48, 22, 15, 37, 35, 52, 8, 19, 67, 34]\n",
    "print(bin_ages(ages))\n"
   ]
  },
  {
   "cell_type": "code",
   "execution_count": 43,
   "metadata": {},
   "outputs": [
    {
     "name": "stdout",
     "output_type": "stream",
     "text": [
      "3.25\n",
      "5.75\n",
      "2.5\n",
      "[100]\n"
     ]
    }
   ],
   "source": [
    "import numpy as np\n",
    "\n",
    "def detect_outliers_iqr(data):\n",
    "    Q1 = np.percentile(data, 25)\n",
    "    print(Q1)\n",
    "    Q3 = np.percentile(data, 75)\n",
    "    print(Q3)\n",
    "    IQR = Q3 - Q1\n",
    "    print(IQR)\n",
    "    \n",
    "    lower_bound = Q1 - 1.5 * IQR\n",
    "    upper_bound = Q3 + 1.5 * IQR\n",
    "    \n",
    "    outliers = [x for x in data if x < lower_bound or x > upper_bound]\n",
    "    \n",
    "    return outliers\n",
    "\n",
    "# Sample Input\n",
    "data = [2, 5, 4, 100, 6, 3]\n",
    "\n",
    "# Detect outliers\n",
    "print(detect_outliers_iqr(data))\n",
    "\n",
    "\n"
   ]
  },
  {
   "cell_type": "code",
   "execution_count": 36,
   "metadata": {},
   "outputs": [
    {
     "name": "stdout",
     "output_type": "stream",
     "text": [
      "5.8\n"
     ]
    }
   ],
   "source": [
    "from sklearn.linear_model import LinearRegression\n",
    "import numpy as np\n",
    "\n",
    "def predict_new_x(X, y, new_x):\n",
    "    # Convert data into numpy arrays and reshape\n",
    "    X = np.array(X).reshape(-1, 1)\n",
    "    y = np.array(y)\n",
    "\n",
    "    # Initialize and train linear regression model\n",
    "    model = LinearRegression()\n",
    "    model.fit(X, y)\n",
    "\n",
    "    # Predict the y-value for new_x\n",
    "    prediction = model.predict(np.array([[new_x]]))\n",
    "\n",
    "    # Return the prediction as a single float (rounded to 2 decimals)\n",
    "    return round(prediction[0], 2)\n",
    "\n",
    "# Example usage:\n",
    "X = [1, 2, 3, 4, 5]\n",
    "y = [2, 4, 5, 4, 5]\n",
    "\n",
    "new_x = 6\n",
    "print(predict_new_x(X, y, new_x))\n"
   ]
  },
  {
   "cell_type": "code",
   "execution_count": 44,
   "metadata": {},
   "outputs": [
    {
     "name": "stdout",
     "output_type": "stream",
     "text": [
      "Predicted value for input [6 7] is 29.0\n"
     ]
    }
   ],
   "source": [
    "import numpy as np\n",
    "from sklearn.linear_model import LinearRegression\n",
    "\n",
    "# Multi-dimensional training data\n",
    "X = np.array([\n",
    "    [1, 2],\n",
    "    [2, 3],\n",
    "    [3, 4],\n",
    "    [4, 5],\n",
    "    [5, 6]\n",
    "])\n",
    "\n",
    "y = np.array([9, 13, 17, 21, 25])\n",
    "\n",
    "# Train the model\n",
    "model = LinearRegression()\n",
    "model.fit(X, y)\n",
    "\n",
    "# New multi-dimensional point for prediction\n",
    "new_X = np.array([[6, 7]])\n",
    "prediction = model.predict(new_X)\n",
    "\n",
    "print(f\"Predicted value for input {new_X[0]} is {prediction[0]}\")\n"
   ]
  },
  {
   "cell_type": "code",
   "execution_count": 45,
   "metadata": {},
   "outputs": [
    {
     "name": "stdout",
     "output_type": "stream",
     "text": [
      "🔷 Training Set (30%):\n",
      "   PassengerId  Pclass  Sex  Age  Survived\n",
      "0            9       3    1   27         1\n",
      "1            2       1    1   38         1\n",
      "2            6       3    0   29         0\n",
      "\n",
      "🔶 Test Set (70%):\n",
      "   PassengerId  Pclass  Sex  Age  Survived\n",
      "3            1       3    0   22         0\n",
      "4            8       3    0    2         1\n",
      "5            3       3    1   26         1\n",
      "6           10       2    1   14         1\n",
      "7            5       3    0   35         0\n",
      "8            4       1    1   35         1\n",
      "9            7       1    0   54         0\n"
     ]
    }
   ],
   "source": [
    "import pandas as pd\n",
    "import numpy as np\n",
    " \n",
    "data = pd.DataFrame({\n",
    "    'PassengerId': np.arange(1, 11),\n",
    "    'Pclass': [3, 1, 3, 1, 3, 3, 1, 3, 3, 2],\n",
    "    'Sex': [0, 1, 1, 1, 0, 0, 0, 0, 1, 1],\n",
    "    'Age': [22, 38, 26, 35, 35, 29, 54, 2, 27, 14],\n",
    "    'Survived': [0, 1, 1, 1, 0, 0, 0, 1, 1, 1]\n",
    "})\n",
    "\n",
    "shuffled_data = data.sample(frac=1, random_state=42).reset_index(drop=True)\n",
    "\n",
    "train_size = int(0.3 * len(shuffled_data))\n",
    "\n",
    "train_set = shuffled_data.iloc[:train_size]\n",
    "test_set = shuffled_data.iloc[train_size:]\n",
    "\n",
    "print(\"🔷 Training Set (30%):\")\n",
    "print(train_set)\n",
    "\n",
    "print(\"\\n🔶 Test Set (70%):\")\n",
    "print(test_set)\n",
    "\n"
   ]
  },
  {
   "cell_type": "code",
   "execution_count": 37,
   "metadata": {},
   "outputs": [
    {
     "name": "stdout",
     "output_type": "stream",
     "text": [
      "Test Accuracy: 0.33\n",
      "\n",
      "Classification Report:\n",
      "               precision    recall  f1-score   support\n",
      "\n",
      "           0       0.00      0.00      0.00         0\n",
      "           1       1.00      0.33      0.50         3\n",
      "\n",
      "    accuracy                           0.33         3\n",
      "   macro avg       0.50      0.17      0.25         3\n",
      "weighted avg       1.00      0.33      0.50         3\n",
      "\n",
      "New customer prediction (0=No, 1=Yes): 1\n",
      "Prediction Probability: [Not buy: 0.29, Buy: 0.71]\n"
     ]
    }
   ],
   "source": [
    "import pandas as pd\n",
    "from sklearn.ensemble import RandomForestClassifier\n",
    "from sklearn.model_selection import train_test_split\n",
    "from sklearn.metrics import accuracy_score, classification_report\n",
    "\n",
    "# Dataset clearly defined\n",
    "data = {\n",
    "    'age': [25, 30, 22, 35, 28, 42, 50, 27, 31, 29],\n",
    "    'annual_income': [40000, 60000, 32000, 70000, 48000, 90000, 110000, 55000, 64000, 51000],\n",
    "    'credit_score': [650, 720, 600, 710, 680, 750, 780, 690, 705, 665],\n",
    "    'num_previous_purchases': [1, 4, 0, 5, 2, 8, 9, 3, 4, 2],\n",
    "    'buy_product': [0, 1, 0, 1, 0, 1, 1, 0, 1, 0]\n",
    "}\n",
    "\n",
    "df = pd.DataFrame(data)\n",
    "\n",
    "# Feature and target split\n",
    "X = df[['age', 'annual_income', 'credit_score', 'num_previous_purchases']]\n",
    "y = df['buy_product']\n",
    "\n",
    "# Train/test split clearly defined\n",
    "X_train, X_test, y_train, y_test = train_test_split(\n",
    "    X, y, test_size=0.3, random_state=42\n",
    ")\n",
    "\n",
    "# Model clearly trained\n",
    "classifier = RandomForestClassifier(n_estimators=100, random_state=42)\n",
    "classifier.fit(X_train, y_train)\n",
    "\n",
    "# Predict and evaluate clearly\n",
    "y_pred = classifier.predict(X_test)\n",
    "accuracy = accuracy_score(y_test, y_pred)\n",
    "\n",
    "# Fix warning by adding zero_division=0\n",
    "print(\"Test Accuracy:\", round(accuracy, 2))\n",
    "print(\"\\nClassification Report:\\n\", classification_report(y_test, y_pred, zero_division=0))\n",
    "\n",
    "# New customer (fixed with proper DataFrame clearly)\n",
    "new_customer = pd.DataFrame(\n",
    "    [[33, 75000, 730, 6]], \n",
    "    columns=['age', 'annual_income', 'credit_score', 'num_previous_purchases']\n",
    ")\n",
    "\n",
    "predicted_class = classifier.predict(new_customer)[0]\n",
    "predicted_prob = classifier.predict_proba(new_customer)[0]\n",
    "\n",
    "print(f\"New customer prediction (0=No, 1=Yes): {predicted_class}\")\n",
    "print(f\"Prediction Probability: [Not buy: {predicted_prob[0]:.2f}, Buy: {predicted_prob[1]:.2f}]\")\n",
    "\n"
   ]
  },
  {
   "cell_type": "code",
   "execution_count": 38,
   "metadata": {},
   "outputs": [
    {
     "name": "stdout",
     "output_type": "stream",
     "text": [
      "Accuracy: 1.00\n",
      "\n",
      "Classification Report:\n",
      "               precision    recall  f1-score   support\n",
      "\n",
      "           0       1.00      1.00      1.00         2\n",
      "           1       1.00      1.00      1.00         1\n",
      "\n",
      "    accuracy                           1.00         3\n",
      "   macro avg       1.00      1.00      1.00         3\n",
      "weighted avg       1.00      1.00      1.00         3\n",
      "\n",
      "Prediction for new student (0=Fail, 1=Pass): 1\n",
      "Prediction Probability: [Fail: 0.00, Pass: 1.00]\n"
     ]
    }
   ],
   "source": [
    "# Import libraries\n",
    "import pandas as pd\n",
    "from sklearn.tree import DecisionTreeClassifier\n",
    "from sklearn.model_selection import train_test_split\n",
    "from sklearn.metrics import accuracy_score, classification_report\n",
    "\n",
    "# Step 1: Create dataset clearly\n",
    "data = {\n",
    "    'hours_studied': [2, 10, 4, 7, 8, 1, 9, 5, 3, 6],\n",
    "    'attendance_rate': [50, 95, 70, 85, 90, 40, 92, 75, 65, 80],\n",
    "    'homework_completion': [60, 100, 80, 90, 95, 50, 100, 85, 70, 88],\n",
    "    'passed_exam': [0, 1, 0, 1, 1, 0, 1, 1, 0, 1]  # target: 1=passed, 0=failed\n",
    "}\n",
    "\n",
    "df = pd.DataFrame(data)\n",
    "\n",
    "# Step 2: Define Features (X) and Target (y)\n",
    "X = df[['hours_studied', 'attendance_rate', 'homework_completion']]\n",
    "y = df['passed_exam']\n",
    "\n",
    "# Step 3: Split the data into training and testing sets\n",
    "X_train, X_test, y_train, y_test = train_test_split(\n",
    "    X, y, test_size=0.3, random_state=42\n",
    ")\n",
    "\n",
    "# Step 4: Train Decision Tree Classifier clearly\n",
    "classifier = DecisionTreeClassifier(random_state=42)\n",
    "classifier.fit(X_train, y_train)\n",
    "\n",
    "# Step 5: Make predictions and evaluate clearly\n",
    "y_pred = classifier.predict(X_test)\n",
    "\n",
    "# Evaluation metrics\n",
    "accuracy = accuracy_score(y_test, y_pred)\n",
    "report = classification_report(y_test, y_pred)\n",
    "\n",
    "print(f\"Accuracy: {accuracy:.2f}\")\n",
    "print(\"\\nClassification Report:\\n\", report)\n",
    "\n",
    "# Step 6: Predict for new student clearly\n",
    "# Clearly define new student as DataFrame matching original feature names\n",
    "new_student = pd.DataFrame([[6, 80, 85]], \n",
    "                           columns=['hours_studied', 'attendance_rate', 'homework_completion'])\n",
    "\n",
    "# Predict clearly\n",
    "predicted_class = classifier.predict(new_student)[0]\n",
    "predicted_prob = classifier.predict_proba(new_student)[0]\n",
    "\n",
    "print(f\"Prediction for new student (0=Fail, 1=Pass): {predicted_class}\")\n",
    "print(f\"Prediction Probability: [Fail: {predicted_prob[0]:.2f}, Pass: {predicted_prob[1]:.2f}]\")\n"
   ]
  }
 ],
 "metadata": {
  "kernelspec": {
   "display_name": "Python 3",
   "language": "python",
   "name": "python3"
  },
  "language_info": {
   "codemirror_mode": {
    "name": "ipython",
    "version": 3
   },
   "file_extension": ".py",
   "mimetype": "text/x-python",
   "name": "python",
   "nbconvert_exporter": "python",
   "pygments_lexer": "ipython3",
   "version": "3.11.1"
  }
 },
 "nbformat": 4,
 "nbformat_minor": 2
}
